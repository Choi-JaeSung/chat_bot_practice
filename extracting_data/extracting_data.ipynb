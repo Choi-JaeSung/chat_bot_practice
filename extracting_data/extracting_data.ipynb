{
 "cells": [
  {
   "cell_type": "code",
   "execution_count": 50,
   "metadata": {},
   "outputs": [],
   "source": [
    "import pandas as pd\n",
    "import json\n",
    "import glob"
   ]
  },
  {
   "cell_type": "markdown",
   "metadata": {},
   "source": [
    "# dialog data"
   ]
  },
  {
   "cell_type": "markdown",
   "metadata": {},
   "source": [
    "## utterance col to json"
   ]
  },
  {
   "cell_type": "code",
   "execution_count": 102,
   "metadata": {},
   "outputs": [
    {
     "data": {
      "text/plain": [
       "list"
      ]
     },
     "execution_count": 102,
     "metadata": {},
     "output_type": "execute_result"
    }
   ],
   "source": [
    "json_list = glob.glob('./data/origin/dialog/*.json')\n",
    "type(json_list)"
   ]
  },
  {
   "cell_type": "code",
   "execution_count": 99,
   "metadata": {},
   "outputs": [],
   "source": [
    "file_num = 0\n",
    "\n",
    "for js in json_list:\n",
    "    data = json.load(open(js, encoding='UTF-8'))\n",
    "    data = pd.DataFrame(data['document'])\n",
    "    data.utterance.to_json('./data/utterance/dialog/' + str(file_num) + '.json', orient='columns')\n",
    "    \n",
    "    file_num += 1"
   ]
  },
  {
   "cell_type": "markdown",
   "metadata": {},
   "source": [
    "## form col to csv"
   ]
  },
  {
   "cell_type": "code",
   "execution_count": 12,
   "metadata": {},
   "outputs": [
    {
     "data": {
      "text/plain": [
       "list"
      ]
     },
     "execution_count": 12,
     "metadata": {},
     "output_type": "execute_result"
    }
   ],
   "source": [
    "json_list = glob.glob('./data/utterance/dialog/*.json')\n",
    "type(json_list)"
   ]
  },
  {
   "cell_type": "code",
   "execution_count": 6,
   "metadata": {},
   "outputs": [],
   "source": [
    "form_list = []\n",
    "\n",
    "for json in json_list:\n",
    "    data = pd.read_json(json)\n",
    "    \n",
    "    for index in range(len(data)):\n",
    "        form = data.iloc[index, 0]['form']\n",
    "        \n",
    "        form_list.append(form)\n",
    "\n",
    "df_form = pd.DataFrame(form_list, columns=['text'])\n",
    "df_form.to_csv('./data/form/dialog.csv', index=False)"
   ]
  },
  {
   "cell_type": "markdown",
   "metadata": {},
   "source": [
    "# messenger data"
   ]
  },
  {
   "cell_type": "markdown",
   "metadata": {},
   "source": [
    "## utterance col to json"
   ]
  },
  {
   "cell_type": "code",
   "execution_count": 17,
   "metadata": {},
   "outputs": [
    {
     "data": {
      "text/plain": [
       "list"
      ]
     },
     "execution_count": 17,
     "metadata": {},
     "output_type": "execute_result"
    }
   ],
   "source": [
    "json_list = glob.glob('./data/origin/messenger/*.json')\n",
    "type(json_list)"
   ]
  },
  {
   "cell_type": "code",
   "execution_count": 18,
   "metadata": {},
   "outputs": [],
   "source": [
    "file_num = 0\n",
    "\n",
    "for js in json_list:\n",
    "    data = json.load(open(js, encoding='UTF-8'))\n",
    "    data = pd.DataFrame(data['document'])\n",
    "    data.utterance.to_json('./data/utterance/messenger/' + str(file_num) + '.json', orient='columns')\n",
    "    \n",
    "    file_num += 1"
   ]
  },
  {
   "cell_type": "markdown",
   "metadata": {},
   "source": [
    "## form col to csv"
   ]
  },
  {
   "cell_type": "code",
   "execution_count": 19,
   "metadata": {},
   "outputs": [
    {
     "data": {
      "text/plain": [
       "list"
      ]
     },
     "execution_count": 19,
     "metadata": {},
     "output_type": "execute_result"
    }
   ],
   "source": [
    "json_list = glob.glob('./data/utterance/messenger/*.json')\n",
    "type(json_list)"
   ]
  },
  {
   "cell_type": "code",
   "execution_count": 20,
   "metadata": {},
   "outputs": [],
   "source": [
    "form_list = []\n",
    "\n",
    "for json in json_list:\n",
    "    data = pd.read_json(json)\n",
    "    \n",
    "    for index in range(len(data)):\n",
    "        form = data.iloc[index, 0]['form']\n",
    "        \n",
    "        form_list.append(form)\n",
    "\n",
    "df_form = pd.DataFrame(form_list, columns=['text'])\n",
    "df_form.to_csv('./data/form/messenger.csv', index=False)"
   ]
  },
  {
   "cell_type": "markdown",
   "metadata": {},
   "source": [
    "# online data"
   ]
  },
  {
   "cell_type": "markdown",
   "metadata": {},
   "source": [
    "## utterance col to json"
   ]
  },
  {
   "cell_type": "code",
   "execution_count": 145,
   "metadata": {},
   "outputs": [
    {
     "data": {
      "text/plain": [
       "list"
      ]
     },
     "execution_count": 145,
     "metadata": {},
     "output_type": "execute_result"
    }
   ],
   "source": [
    "json_list = glob.glob('./data/origin/online/*.json')\n",
    "type(json_list)"
   ]
  },
  {
   "cell_type": "code",
   "execution_count": null,
   "metadata": {},
   "outputs": [],
   "source": [
    "file_num = 0\n",
    "\n",
    "for js in json_list:\n",
    "    data = json.load(open(js, encoding='UTF-8'))\n",
    "    data = pd.DataFrame(data['document'])\n",
    "    data.utterance.to_json('./data/utterance/online/' + str(file_num) + '.json', orient='columns')\n",
    "    \n",
    "    file_num += 1"
   ]
  },
  {
   "cell_type": "markdown",
   "metadata": {},
   "source": [
    "## form col to csv"
   ]
  },
  {
   "cell_type": "code",
   "execution_count": 170,
   "metadata": {},
   "outputs": [
    {
     "data": {
      "text/plain": [
       "list"
      ]
     },
     "execution_count": 170,
     "metadata": {},
     "output_type": "execute_result"
    }
   ],
   "source": [
    "json_list = glob.glob('./data/utterance/online/*.json')\n",
    "type(json_list)"
   ]
  },
  {
   "cell_type": "code",
   "execution_count": 171,
   "metadata": {},
   "outputs": [],
   "source": [
    "form_list = []\n",
    "\n",
    "for js in json_list:\n",
    "    try :\n",
    "        data = pd.read_json(js)\n",
    "    except ValueError:\n",
    "        continue\n",
    "    for index in range(len(data)):\n",
    "        form = data.iloc[index, 0]['form']\n",
    "        \n",
    "        form_list.append(form)\n",
    "\n",
    "df_form = pd.DataFrame(form_list, columns=['text'])\n",
    "df_form.to_csv('./data/form/online.csv', index=False)"
   ]
  },
  {
   "cell_type": "code",
   "execution_count": null,
   "metadata": {},
   "outputs": [],
   "source": []
  }
 ],
 "metadata": {
  "kernelspec": {
   "display_name": "Python 3.7.13 ('chatbot')",
   "language": "python",
   "name": "python3"
  },
  "language_info": {
   "codemirror_mode": {
    "name": "ipython",
    "version": 3
   },
   "file_extension": ".py",
   "mimetype": "text/x-python",
   "name": "python",
   "nbconvert_exporter": "python",
   "pygments_lexer": "ipython3",
   "version": "3.7.13"
  },
  "orig_nbformat": 4,
  "vscode": {
   "interpreter": {
    "hash": "c4620e071a638505548caaa080cb4c17ac69ca2be0f485a9198e96415ffa92c7"
   }
  }
 },
 "nbformat": 4,
 "nbformat_minor": 2
}
