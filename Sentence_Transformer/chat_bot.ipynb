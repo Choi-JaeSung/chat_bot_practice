{
 "cells": [
  {
   "cell_type": "code",
   "execution_count": 1,
   "metadata": {},
   "outputs": [],
   "source": [
    "import pandas as pd\n",
    "import numpy as np\n",
    "import torch\n",
    "from sentence_transformers import SentenceTransformer\n",
    "from sklearn.metrics.pairwise import cosine_similarity\n",
    "from numba import jit\n",
    "from multiprocessing import Pool\n",
    "\n",
    "torch.cuda.is_available()"
   ]
  },
  {
   "cell_type": "code",
   "execution_count": 2,
   "metadata": {},
   "outputs": [],
   "source": [
    "model = SentenceTransformer('jhgan/ko-sroberta-multitask', device='cuda:0')"
   ]
  },
  {
   "cell_type": "code",
   "execution_count": 20,
   "metadata": {},
   "outputs": [
    {
     "data": {
      "text/html": [
       "<div>\n",
       "<style scoped>\n",
       "    .dataframe tbody tr th:only-of-type {\n",
       "        vertical-align: middle;\n",
       "    }\n",
       "\n",
       "    .dataframe tbody tr th {\n",
       "        vertical-align: top;\n",
       "    }\n",
       "\n",
       "    .dataframe thead th {\n",
       "        text-align: right;\n",
       "    }\n",
       "</style>\n",
       "<table border=\"1\" class=\"dataframe\">\n",
       "  <thead>\n",
       "    <tr style=\"text-align: right;\">\n",
       "      <th></th>\n",
       "      <th>Q</th>\n",
       "      <th>A</th>\n",
       "    </tr>\n",
       "  </thead>\n",
       "  <tbody>\n",
       "    <tr>\n",
       "      <th>0</th>\n",
       "      <td>여보세요</td>\n",
       "      <td>어 그래</td>\n",
       "    </tr>\n",
       "    <tr>\n",
       "      <th>1</th>\n",
       "      <td>여보세요</td>\n",
       "      <td>여보세요</td>\n",
       "    </tr>\n",
       "    <tr>\n",
       "      <th>2</th>\n",
       "      <td>여보세요</td>\n",
       "      <td>어 왜</td>\n",
       "    </tr>\n",
       "    <tr>\n",
       "      <th>3</th>\n",
       "      <td>여보세요</td>\n",
       "      <td>어디야</td>\n",
       "    </tr>\n",
       "    <tr>\n",
       "      <th>4</th>\n",
       "      <td>가고 있어</td>\n",
       "      <td>어디 쯤인데</td>\n",
       "    </tr>\n",
       "  </tbody>\n",
       "</table>\n",
       "</div>"
      ],
      "text/plain": [
       "       Q       A\n",
       "0   여보세요    어 그래\n",
       "1   여보세요    여보세요\n",
       "2   여보세요     어 왜\n",
       "3   여보세요     어디야\n",
       "4  가고 있어  어디 쯤인데"
      ]
     },
     "execution_count": 20,
     "metadata": {},
     "output_type": "execute_result"
    }
   ],
   "source": [
    "df = pd.read_csv('./data/dataset.csv') # Q, A, label(0: 의문문, 1: 평서문, 2: 명령문)\n",
    "\n",
    "df.head()"
   ]
  },
  {
   "cell_type": "code",
   "execution_count": 21,
   "metadata": {},
   "outputs": [
    {
     "data": {
      "text/html": [
       "<div>\n",
       "<style scoped>\n",
       "    .dataframe tbody tr th:only-of-type {\n",
       "        vertical-align: middle;\n",
       "    }\n",
       "\n",
       "    .dataframe tbody tr th {\n",
       "        vertical-align: top;\n",
       "    }\n",
       "\n",
       "    .dataframe thead th {\n",
       "        text-align: right;\n",
       "    }\n",
       "</style>\n",
       "<table border=\"1\" class=\"dataframe\">\n",
       "  <thead>\n",
       "    <tr style=\"text-align: right;\">\n",
       "      <th></th>\n",
       "      <th>Q</th>\n",
       "      <th>A</th>\n",
       "      <th>embedding</th>\n",
       "    </tr>\n",
       "  </thead>\n",
       "  <tbody>\n",
       "    <tr>\n",
       "      <th>0</th>\n",
       "      <td>여보세요</td>\n",
       "      <td>어 그래</td>\n",
       "      <td>[0.13119733, -0.61521536, 0.47910497, -0.91031...</td>\n",
       "    </tr>\n",
       "    <tr>\n",
       "      <th>1</th>\n",
       "      <td>여보세요</td>\n",
       "      <td>여보세요</td>\n",
       "      <td>[0.13119733, -0.61521536, 0.47910497, -0.91031...</td>\n",
       "    </tr>\n",
       "    <tr>\n",
       "      <th>2</th>\n",
       "      <td>여보세요</td>\n",
       "      <td>어 왜</td>\n",
       "      <td>[0.13119733, -0.61521536, 0.47910497, -0.91031...</td>\n",
       "    </tr>\n",
       "    <tr>\n",
       "      <th>3</th>\n",
       "      <td>여보세요</td>\n",
       "      <td>어디야</td>\n",
       "      <td>[0.13119733, -0.61521536, 0.47910497, -0.91031...</td>\n",
       "    </tr>\n",
       "    <tr>\n",
       "      <th>4</th>\n",
       "      <td>가고 있어</td>\n",
       "      <td>어디 쯤인데</td>\n",
       "      <td>[-0.47705302, -0.17624724, 0.2527341, -0.62782...</td>\n",
       "    </tr>\n",
       "  </tbody>\n",
       "</table>\n",
       "</div>"
      ],
      "text/plain": [
       "       Q       A                                          embedding\n",
       "0   여보세요    어 그래  [0.13119733, -0.61521536, 0.47910497, -0.91031...\n",
       "1   여보세요    여보세요  [0.13119733, -0.61521536, 0.47910497, -0.91031...\n",
       "2   여보세요     어 왜  [0.13119733, -0.61521536, 0.47910497, -0.91031...\n",
       "3   여보세요     어디야  [0.13119733, -0.61521536, 0.47910497, -0.91031...\n",
       "4  가고 있어  어디 쯤인데  [-0.47705302, -0.17624724, 0.2527341, -0.62782..."
      ]
     },
     "execution_count": 21,
     "metadata": {},
     "output_type": "execute_result"
    }
   ],
   "source": [
    "df['embedding'] = df.Q.map(lambda x: list(model.encode(x)))\n",
    "\n",
    "df.head()"
   ]
  },
  {
   "cell_type": "code",
   "execution_count": 6,
   "metadata": {},
   "outputs": [],
   "source": [
    "# text = '집 근처 편의점이야'\n",
    "\n",
    "# embedding = model.encode(text)"
   ]
  },
  {
   "cell_type": "code",
   "execution_count": 7,
   "metadata": {},
   "outputs": [],
   "source": [
    "# df['distance'] = df['embedding'].map(lambda x: cosine_similarity([embedding], [x]).squeeze())\n",
    "\n",
    "# df.head()"
   ]
  },
  {
   "cell_type": "code",
   "execution_count": 8,
   "metadata": {},
   "outputs": [],
   "source": [
    "# import random\n",
    "\n",
    "\n",
    "# result = df[df.distance == df.distance.max()]\n",
    "# selected_idx = random.randint(0, result.shape[0] - 1)\n",
    "# answer = result.iloc[selected_idx]\n",
    "\n",
    "# print(answer)"
   ]
  },
  {
   "cell_type": "code",
   "execution_count": 9,
   "metadata": {},
   "outputs": [],
   "source": [
    "# answer['A']"
   ]
  },
  {
   "cell_type": "code",
   "execution_count": 12,
   "metadata": {},
   "outputs": [],
   "source": [
    "from gtts import gTTS\n",
    "import playsound\n",
    "import os\n",
    "import random"
   ]
  },
  {
   "cell_type": "code",
   "execution_count": 24,
   "metadata": {},
   "outputs": [
    {
     "name": "stdout",
     "output_type": "stream",
     "text": [
      "어 재밌네\n"
     ]
    }
   ],
   "source": [
    "while True:\n",
    "    user = input('input: ')\n",
    "    \n",
    "    if user == 's':\n",
    "        break\n",
    "    \n",
    "    embedding = model.encode(user)\n",
    "    df['distance'] = df['embedding'].map(lambda x: cosine_similarity([embedding], [x]).squeeze())\n",
    "    \n",
    "    result = df[df.distance == df.distance.max()]\n",
    "    \n",
    "    if result.shape[0] != 0:\n",
    "        selected_idx = random.randint(0, result.shape[0] - 1)\n",
    "        answer = result.iloc[selected_idx]\n",
    "        print(answer['A'])\n",
    "        tts = gTTS(text=answer['A'], lang='ko')\n",
    "        tts.save('./voice.mp3')\n",
    "        playsound.playsound('./voice.mp3')\n",
    "        os.remove('./voice.mp3')"
   ]
  },
  {
   "cell_type": "code",
   "execution_count": null,
   "metadata": {},
   "outputs": [],
   "source": []
  }
 ],
 "metadata": {
  "kernelspec": {
   "display_name": "Python 3.7.13 ('chatbot')",
   "language": "python",
   "name": "python3"
  },
  "language_info": {
   "codemirror_mode": {
    "name": "ipython",
    "version": 3
   },
   "file_extension": ".py",
   "mimetype": "text/x-python",
   "name": "python",
   "nbconvert_exporter": "python",
   "pygments_lexer": "ipython3",
   "version": "3.7.13"
  },
  "orig_nbformat": 4,
  "vscode": {
   "interpreter": {
    "hash": "c4620e071a638505548caaa080cb4c17ac69ca2be0f485a9198e96415ffa92c7"
   }
  }
 },
 "nbformat": 4,
 "nbformat_minor": 2
}
