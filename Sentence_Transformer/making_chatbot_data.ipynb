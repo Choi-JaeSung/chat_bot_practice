{
 "cells": [
  {
   "cell_type": "code",
   "execution_count": 3,
   "metadata": {},
   "outputs": [],
   "source": [
    "import numpy as np\n",
    "import pandas as pd\n",
    "import matplotlib.pyplot as plt"
   ]
  },
  {
   "cell_type": "code",
   "execution_count": 5,
   "metadata": {},
   "outputs": [
    {
     "data": {
      "text/html": [
       "<div>\n",
       "<style scoped>\n",
       "    .dataframe tbody tr th:only-of-type {\n",
       "        vertical-align: middle;\n",
       "    }\n",
       "\n",
       "    .dataframe tbody tr th {\n",
       "        vertical-align: top;\n",
       "    }\n",
       "\n",
       "    .dataframe thead th {\n",
       "        text-align: right;\n",
       "    }\n",
       "</style>\n",
       "<table border=\"1\" class=\"dataframe\">\n",
       "  <thead>\n",
       "    <tr style=\"text-align: right;\">\n",
       "      <th></th>\n",
       "      <th>Q</th>\n",
       "      <th>A</th>\n",
       "      <th>Label</th>\n",
       "    </tr>\n",
       "  </thead>\n",
       "  <tbody>\n",
       "    <tr>\n",
       "      <th>0</th>\n",
       "      <td>나도 시켜줘</td>\n",
       "      <td>알았어 얼른와</td>\n",
       "      <td>2</td>\n",
       "    </tr>\n",
       "    <tr>\n",
       "      <th>1</th>\n",
       "      <td>나도 먹을래</td>\n",
       "      <td>알았어 얼른와</td>\n",
       "      <td>2</td>\n",
       "    </tr>\n",
       "    <tr>\n",
       "      <th>2</th>\n",
       "      <td>나도 짜장면 먹을래</td>\n",
       "      <td>알았어 얼른와</td>\n",
       "      <td>2</td>\n",
       "    </tr>\n",
       "    <tr>\n",
       "      <th>3</th>\n",
       "      <td>나도 짜장 먹을래</td>\n",
       "      <td>알았어 얼른와</td>\n",
       "      <td>2</td>\n",
       "    </tr>\n",
       "    <tr>\n",
       "      <th>4</th>\n",
       "      <td>나도 짬뽕 먹을래</td>\n",
       "      <td>알았어 얼른와</td>\n",
       "      <td>2</td>\n",
       "    </tr>\n",
       "    <tr>\n",
       "      <th>...</th>\n",
       "      <td>...</td>\n",
       "      <td>...</td>\n",
       "      <td>...</td>\n",
       "    </tr>\n",
       "    <tr>\n",
       "      <th>89</th>\n",
       "      <td>나도 스타 프루트 먹을래</td>\n",
       "      <td>알았어 얼른와</td>\n",
       "      <td>2</td>\n",
       "    </tr>\n",
       "    <tr>\n",
       "      <th>90</th>\n",
       "      <td>나도 리치 먹을래</td>\n",
       "      <td>알았어 얼른와</td>\n",
       "      <td>2</td>\n",
       "    </tr>\n",
       "    <tr>\n",
       "      <th>91</th>\n",
       "      <td>나도 람부탄 먹을래</td>\n",
       "      <td>알았어 얼른와</td>\n",
       "      <td>2</td>\n",
       "    </tr>\n",
       "    <tr>\n",
       "      <th>92</th>\n",
       "      <td>나도 파파야 먹을래</td>\n",
       "      <td>알았어 얼른와</td>\n",
       "      <td>2</td>\n",
       "    </tr>\n",
       "    <tr>\n",
       "      <th>93</th>\n",
       "      <td>나도 아로니아 먹을래</td>\n",
       "      <td>알았어 얼른와</td>\n",
       "      <td>2</td>\n",
       "    </tr>\n",
       "  </tbody>\n",
       "</table>\n",
       "<p>94 rows × 3 columns</p>\n",
       "</div>"
      ],
      "text/plain": [
       "                Q        A  Label\n",
       "0          나도 시켜줘  알았어 얼른와      2\n",
       "1          나도 먹을래  알았어 얼른와      2\n",
       "2      나도 짜장면 먹을래  알았어 얼른와      2\n",
       "3       나도 짜장 먹을래  알았어 얼른와      2\n",
       "4       나도 짬뽕 먹을래  알았어 얼른와      2\n",
       "..            ...      ...    ...\n",
       "89  나도 스타 프루트 먹을래  알았어 얼른와      2\n",
       "90      나도 리치 먹을래  알았어 얼른와      2\n",
       "91     나도 람부탄 먹을래  알았어 얼른와      2\n",
       "92     나도 파파야 먹을래  알았어 얼른와      2\n",
       "93    나도 아로니아 먹을래  알았어 얼른와      2\n",
       "\n",
       "[94 rows x 3 columns]"
      ]
     },
     "execution_count": 5,
     "metadata": {},
     "output_type": "execute_result"
    }
   ],
   "source": [
    "dataset = pd.read_csv('./data/dataset.csv')\n",
    "\n",
    "dataset"
   ]
  },
  {
   "cell_type": "code",
   "execution_count": null,
   "metadata": {},
   "outputs": [],
   "source": []
  }
 ],
 "metadata": {
  "kernelspec": {
   "display_name": "Python 3.7.13 ('chatbot')",
   "language": "python",
   "name": "python3"
  },
  "language_info": {
   "codemirror_mode": {
    "name": "ipython",
    "version": 3
   },
   "file_extension": ".py",
   "mimetype": "text/x-python",
   "name": "python",
   "nbconvert_exporter": "python",
   "pygments_lexer": "ipython3",
   "version": "3.7.13"
  },
  "orig_nbformat": 4,
  "vscode": {
   "interpreter": {
    "hash": "c4620e071a638505548caaa080cb4c17ac69ca2be0f485a9198e96415ffa92c7"
   }
  }
 },
 "nbformat": 4,
 "nbformat_minor": 2
}
